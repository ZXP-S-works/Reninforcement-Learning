{
 "cells": [
  {
   "cell_type": "markdown",
   "metadata": {},
   "source": [
    "# Deep Deterministic Policy Gradients (DDPG)\n",
    "---\n",
    "In this notebook, we train DDPG with OpenAI Gym's BipedalWalker-v2 environment.\n",
    "\n",
    "### 1. Import the Necessary Packages"
   ]
  },
  {
   "cell_type": "code",
   "execution_count": 6,
   "metadata": {},
   "outputs": [],
   "source": [
    "import gym\n",
    "import random\n",
    "import torch\n",
    "import tqdm\n",
    "import numpy as np\n",
    "from collections import deque\n",
    "import matplotlib.pyplot as plt\n",
    "%matplotlib inline\n",
    "\n",
    "from ddpg_agent import Agent"
   ]
  },
  {
   "cell_type": "markdown",
   "metadata": {},
   "source": [
    "### 2. Instantiate the Environment and Agent"
   ]
  },
  {
   "cell_type": "code",
   "execution_count": 12,
   "metadata": {},
   "outputs": [],
   "source": [
    "env = gym.make('BipedalWalker-v2')\n",
    "env.seed(10)\n",
    "agent = Agent(state_size=env.observation_space.shape[0], action_size=env.action_space.shape[0], random_seed=10)"
   ]
  },
  {
   "cell_type": "markdown",
   "metadata": {},
   "source": [
    "### 3. Train the Agent with DDPG\n",
    "\n",
    "Run the code cell below to train the agent from scratch.  Alternatively, you can skip to the next code cell to load the pre-trained weights from file."
   ]
  },
  {
   "cell_type": "code",
   "execution_count": 22,
   "metadata": {},
   "outputs": [],
   "source": [
    "def ddpg(n_episodes=1_000, max_t=700):\n",
    "    scores_deque = deque(maxlen=100)\n",
    "    scores = []\n",
    "    max_score = -np.Inf\n",
    "    pbar = tqdm.tnrange(n_episodes, ncols='100%')\n",
    "\n",
    "\n",
    "    for i_episode in pbar:\n",
    "        state = env.reset()\n",
    "        agent.reset()\n",
    "        score = 0\n",
    "        for t in range(max_t):\n",
    "            action = agent.act(state)\n",
    "            next_state, reward, done, _ = env.step(action)\n",
    "            agent.step(state, action, reward, next_state, done)\n",
    "            state = next_state\n",
    "            score += reward\n",
    "            if done:\n",
    "                break \n",
    "        scores_deque.append(score)\n",
    "        scores.append(score)\n",
    "        print('\\rEpisode {}\\tAverage Score: {:.2f}\\tScore: {:.2f}'.format(i_episode, np.mean(scores_deque), score), end=\"\")\n",
    "        if i_episode % 100 == 0:\n",
    "            torch.save(agent.actor_local.state_dict(), 'checkpoint_actor.pth')\n",
    "            torch.save(agent.critic_local.state_dict(), 'checkpoint_critic.pth')\n",
    "            print('\\rEpisode {}\\tAverage Score: {:.2f}'.format(i_episode, np.mean(scores_deque)))   \n",
    "    return scores"
   ]
  },
  {
   "cell_type": "code",
   "execution_count": null,
   "metadata": {
    "scrolled": true
   },
   "outputs": [
    {
     "data": {
      "application/vnd.jupyter.widget-view+json": {
       "model_id": "f1de4a6be6514bcd88bc8c588e09d5df",
       "version_major": 2,
       "version_minor": 0
      },
      "text/plain": [
       "HBox(children=(IntProgress(value=0, layout=Layout(flex='2'), max=5000), HTML(value='')), layout=Layout(display…"
      ]
     },
     "metadata": {},
     "output_type": "display_data"
    },
    {
     "name": "stdout",
     "output_type": "stream",
     "text": [
      "Episode 0\tAverage Score: -115.55\tScore: -115.55\n",
      "Episode 100\tAverage Score: -108.80\tScore: -102.92\n",
      "Episode 200\tAverage Score: -108.38\tScore: -94.559\n",
      "Episode 300\tAverage Score: -111.63\tScore: -111.30\n",
      "Episode 400\tAverage Score: -118.31\tScore: -115.38\n",
      "Episode 500\tAverage Score: -112.86\tScore: -116.28\n",
      "Episode 600\tAverage Score: -114.27\tScore: -113.84\n",
      "Episode 700\tAverage Score: -115.86\tScore: -108.52\n",
      "Episode 800\tAverage Score: -111.76\tScore: -108.10\n",
      "Episode 900\tAverage Score: -104.51\tScore: -111.51\n",
      "Episode 1000\tAverage Score: -110.41\tScore: -62.52\n",
      "Episode 1100\tAverage Score: -109.71\tScore: -103.21\n",
      "Episode 1200\tAverage Score: -106.78\tScore: -115.84\n",
      "Episode 1300\tAverage Score: -112.30\tScore: -109.99\n",
      "Episode 1400\tAverage Score: -115.83\tScore: -56.464\n",
      "Episode 1500\tAverage Score: -119.68\tScore: -113.95\n",
      "Episode 1600\tAverage Score: -113.17\tScore: -114.52\n",
      "Episode 1700\tAverage Score: -107.27\tScore: -118.48\n",
      "Episode 1800\tAverage Score: -119.86\tScore: -112.75\n",
      "Episode 1900\tAverage Score: -115.08\tScore: -120.83\n",
      "Episode 2000\tAverage Score: -127.76\tScore: -143.98\n",
      "Episode 2100\tAverage Score: -132.06\tScore: -111.10\n",
      "Episode 2200\tAverage Score: -103.83\tScore: -54.707\n",
      "Episode 2300\tAverage Score: -94.02\tScore: -134.940\n",
      "Episode 2400\tAverage Score: -108.78\tScore: -117.24\n",
      "Episode 2500\tAverage Score: -114.06\tScore: -108.38\n",
      "Episode 2600\tAverage Score: -102.19\tScore: -63.413\n",
      "Episode 2700\tAverage Score: -98.73\tScore: -49.8797\n",
      "Episode 2800\tAverage Score: -97.50\tScore: -108.12\n",
      "Episode 2900\tAverage Score: -108.06\tScore: -113.81\n",
      "Episode 3000\tAverage Score: -112.05\tScore: -112.68\n",
      "Episode 3100\tAverage Score: -111.40\tScore: -114.56\n",
      "Episode 3200\tAverage Score: -109.94\tScore: -114.47\n",
      "Episode 3300\tAverage Score: -109.64\tScore: -108.69\n",
      "Episode 3400\tAverage Score: -109.27\tScore: -102.57\n",
      "Episode 3459\tAverage Score: -107.21\tScore: -117.56"
     ]
    }
   ],
   "source": [
    "scores = ddpg(n_episodes=5_000)\n",
    "\n",
    "fig = plt.figure()\n",
    "ax = fig.add_subplot(111)\n",
    "plt.plot(np.arange(1, len(scores)+1), scores)\n",
    "plt.title('Bipedal Walker')\n",
    "plt.ylabel('Score')\n",
    "plt.xlabel('Episode #')\n",
    "plt.show()"
   ]
  },
  {
   "cell_type": "markdown",
   "metadata": {},
   "source": [
    "### 4. Watch a Smart Agent!\n",
    "\n",
    "In the next code cell, you will load the trained weights from file to watch a smart agent!"
   ]
  },
  {
   "cell_type": "code",
   "execution_count": 31,
   "metadata": {
    "scrolled": true
   },
   "outputs": [],
   "source": [
    "agent.actor_local.load_state_dict(torch.load('checkpoint_actor.pth'))\n",
    "agent.critic_local.load_state_dict(torch.load('checkpoint_critic.pth'))\n",
    "\n",
    "state = env.reset()\n",
    "agent.reset()   \n",
    "while True:\n",
    "    action = agent.act(state)\n",
    "    env.render()\n",
    "    next_state, reward, done, _ = env.step(action)\n",
    "    state = next_state\n",
    "    if done:\n",
    "        break\n",
    "        \n",
    "env.close()"
   ]
  },
  {
   "cell_type": "markdown",
   "metadata": {},
   "source": [
    "### 5. Explore\n",
    "\n",
    "In this exercise, we have provided a sample DDPG agent and demonstrated how to use it to solve an OpenAI Gym environment.  To continue your learning, you are encouraged to complete any (or all!) of the following tasks:\n",
    "- Amend the various hyperparameters and network architecture to see if you can get your agent to solve the environment faster than this benchmark implementation.  Once you build intuition for the hyperparameters that work well with this environment, try solving a different OpenAI Gym task!\n",
    "- Write your own DDPG implementation.  Use this code as reference only when needed -- try as much as you can to write your own algorithm from scratch.\n",
    "- You may also like to implement prioritized experience replay, to see if it speeds learning.  \n",
    "- The current implementation adds Ornsetein-Uhlenbeck noise to the action space.  However, it has [been shown](https://blog.openai.com/better-exploration-with-parameter-noise/) that adding noise to the parameters of the neural network policy can improve performance.  Make this change to the code, to verify it for yourself!\n",
    "- Write a blog post explaining the intuition behind the DDPG algorithm and demonstrating how to use it to solve an RL environment of your choosing.  "
   ]
  }
 ],
 "metadata": {
  "kernelspec": {
   "display_name": "Python 3",
   "language": "python",
   "name": "python3"
  },
  "language_info": {
   "codemirror_mode": {
    "name": "ipython",
    "version": 3
   },
   "file_extension": ".py",
   "mimetype": "text/x-python",
   "name": "python",
   "nbconvert_exporter": "python",
   "pygments_lexer": "ipython3",
   "version": "3.6.3"
  }
 },
 "nbformat": 4,
 "nbformat_minor": 2
}
