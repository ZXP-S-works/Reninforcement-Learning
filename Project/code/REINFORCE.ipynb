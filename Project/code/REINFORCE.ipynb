{
 "cells": [
  {
   "cell_type": "markdown",
   "metadata": {},
   "source": [
    "# REINFORCE\n",
    "\n",
    "---\n",
    "\n",
    "In this notebook, we will train REINFORCE with OpenAI Gym's Cartpole environment."
   ]
  },
  {
   "cell_type": "markdown",
   "metadata": {},
   "source": [
    "### 1. Import the Necessary Packages"
   ]
  },
  {
   "cell_type": "code",
   "execution_count": 3,
   "metadata": {},
   "outputs": [],
   "source": [
    "import gym\n",
    "gym.logger.set_level(40) # suppress warnings (please remove if gives error)\n",
    "import numpy as np\n",
    "from collections import deque\n",
    "import matplotlib.pyplot as plt\n",
    "%matplotlib inline\n",
    "\n",
    "import torch\n",
    "torch.manual_seed(0) # set random seed\n",
    "import torch.nn as nn\n",
    "import torch.nn.functional as F\n",
    "import torch.optim as optim\n",
    "from torch.distributions import Categorical"
   ]
  },
  {
   "cell_type": "markdown",
   "metadata": {},
   "source": [
    "### 2. Define the Architecture of the Policy"
   ]
  },
  {
   "cell_type": "code",
   "execution_count": 4,
   "metadata": {},
   "outputs": [],
   "source": [
    "# env = gym.make('CartPole-v0')\n",
    "# env.seed(0)\n",
    "# print('observation space:', env.observation_space)\n",
    "# print('action space:', env.action_space)\n",
    "\n",
    "device = torch.device(\"cuda:0\" if torch.cuda.is_available() else \"cpu\")\n",
    "\n",
    "class Policy(nn.Module):\n",
    "    def __init__(self,\n",
    "                 algorithm,\n",
    "                 state_dim,\n",
    "                 action_dim,\n",
    "                 hidden_size=16):\n",
    "        \n",
    "        super(Policy, self).__init__()\n",
    "        self.algorithm = algorithm\n",
    "        self.fc1 = nn.Linear(state_dim, hidden_size)\n",
    "        self.fc2 = nn.Linear(hidden_size, hidden_size)\n",
    "        self.fc3 = nn.Linear(hidden_size, action_dim)\n",
    "        \n",
    "        if self.algorithm == 'Baseline' or self.algorithm == 'Actor-Critic':\n",
    "            self.fc4 = nn.Linear(state_dim, hidden_size)\n",
    "            self.fc5 = nn.Linear(hidden_size, hidden_size)\n",
    "            self.fc6 = nn.Linear(hidden_size, 1)\n",
    "\n",
    "    def forward(self, x):\n",
    "        x = F.relu(self.fc1(x))\n",
    "        x = F.relu(self.fc2(x))\n",
    "        x = self.fc3(x)\n",
    "        return F.softmax(x, dim=1)\n",
    "    \n",
    "    \n",
    "    def value(self, x):\n",
    "        if self.algorithm == 'Baseline' or self.algorithm == 'Actor-Critic':\n",
    "            x = F.relu(self.fc4(x))\n",
    "            x = F.relu(self.fc5(x))\n",
    "            return self.fc6(x)\n",
    "        return None\n",
    "    \n",
    "    def act(self, state):\n",
    "        state = torch.from_numpy(state).float().unsqueeze(0).to(device)\n",
    "        probs = self.forward(state).cpu()\n",
    "        m = Categorical(probs)\n",
    "        action = m.sample()\n",
    "        return action.item(), m.log_prob(action)"
   ]
  },
  {
   "cell_type": "markdown",
   "metadata": {},
   "source": [
    "### 3. DQN Critic"
   ]
  },
  {
   "cell_type": "code",
   "execution_count": 5,
   "metadata": {},
   "outputs": [],
   "source": [
    "class DQN(nn.Module):\n",
    "    def __init__(self, state_dim, action_dim, *, num_layers=3, hidden_dim=256):\n",
    "        \"\"\"Deep Q-Network PyTorch model.\n",
    "\n",
    "        Args:\n",
    "            - state_dim: Dimensionality of states\n",
    "            - action_dim: Dimensionality of actions\n",
    "            - num_layers: Number of total linear layers\n",
    "            - hidden_dim: Number of neurons in the hidden layers\n",
    "        \"\"\"\n",
    "\n",
    "        super().__init__()\n",
    "        self.state_dim = state_dim\n",
    "        self.action_dim = action_dim\n",
    "        self.num_layers = num_layers\n",
    "        self.hidden_dim = hidden_dim\n",
    "\n",
    "        # YOUR CODE HERE:  define the layers of your model such that\n",
    "        # * there are `num_layers` nn.Linear modules / layers\n",
    "        # * all activations except the last should be ReLU activations\n",
    "        #   (this can be achieved either using a nn.ReLU() object or the nn.functional.relu() method)\n",
    "        # * the last activation can either be missing, or you can use nn.Identity()\n",
    "        self.fcs = nn.ModuleList()\n",
    "        self.fcs.append(nn.Linear(state_dim, hidden_dim))\n",
    "        for _ in range(1, num_layers-1):\n",
    "            self.fcs.append(nn.Linear(hidden_dim, hidden_dim))\n",
    "        self.fcs.append(nn.Linear(hidden_dim, action_dim))\n",
    "\n",
    "    def forward(self, states) -> torch.Tensor:\n",
    "        \"\"\"Q function mapping from states to action-values.\n",
    "\n",
    "        :param states: (*, S) torch.Tensor where * is any number of additional\n",
    "                dimensions, and S is the dimensionality of state-space.\n",
    "        :rtype: (*, A) torch.Tensor where * is the same number of additional\n",
    "                dimensions as the `states`, and A is the dimensionality of the\n",
    "                action-space.  This represents the Q values Q(s, .).\n",
    "        \"\"\"\n",
    "        # YOUR CODE HERE:  use the defined layers and activations to compute\n",
    "        # the action-values tensor associated with the input states.\n",
    "        x = F.relu(self.fcs[0](states))\n",
    "        for i in range(1, self.num_layers-1):\n",
    "            x = F.relu(self.fcs[i](x))\n",
    "        return self.fcs[-1](x)\n",
    "\n",
    "    # utility methods for cloning and storing models.  DO NOT EDIT\n",
    "    @classmethod\n",
    "    def custom_load(cls, data):\n",
    "        model = cls(*data['args'], **data['kwargs'])\n",
    "        model.load_state_dict(data['state_dict'])\n",
    "        return model\n",
    "\n",
    "    def custom_dump(self):\n",
    "        return {\n",
    "            'args': (self.state_dim, self.action_dim),\n",
    "            'kwargs': {\n",
    "                'num_layers': self.num_layers,\n",
    "                'hidden_dim': self.hidden_dim,\n",
    "            },\n",
    "            'state_dict': self.state_dict(),\n",
    "        }"
   ]
  },
  {
   "cell_type": "markdown",
   "metadata": {},
   "source": [
    "### 4. Train the Agent with REINFORCE"
   ]
  },
  {
   "cell_type": "code",
   "execution_count": 6,
   "metadata": {},
   "outputs": [],
   "source": [
    "# with trained DQN as baseline\n",
    "\n",
    "def reinforce_trained(algorithm, \n",
    "                      env, \n",
    "                      lr=1e-2, \n",
    "                      n_episodes=2000, \n",
    "                      max_t=1000, \n",
    "                      gamma=1.0, \n",
    "                      print_every=100):\n",
    "\n",
    "    policy = Policy(algorithm, \n",
    "                    state_dim=env.observation_space.shape[0], \n",
    "                    action_dim=env.action_space.n).to(device)\n",
    "    \n",
    "    if algorithm == 'Baseline' or algorithm == 'Actor-Critic':\n",
    "        checkpoint = torch.load(f'checkpoint_{env.spec.id}.pt')\n",
    "        dqn = DQN.custom_load(checkpoint['100_0'])\n",
    "    \n",
    "    optimizer = optim.Adam(policy.parameters(), lr=lr)\n",
    "    scores_deque = deque(maxlen=100)\n",
    "    returns = []\n",
    "    lengths = []\n",
    "        \n",
    "    for i_episode in range(1, n_episodes+1):\n",
    "        saved_log_probs = []\n",
    "        saved_value = []\n",
    "        rewards = []\n",
    "        state = env.reset()\n",
    "        for t in range(max_t):\n",
    "            action, log_prob = policy.act(state)\n",
    "            saved_log_probs.append(log_prob)\n",
    "            state, reward, done, _ = env.step(action)\n",
    "            if algorithm == 'Baseline' or algorithm == 'Actor-Critic':\n",
    "                #saved_value.append(dqn(torch.Tensor(state)).max())        \n",
    "                saved_value.append(policy.value(torch.Tensor(state).to(device)))\n",
    "            rewards.append(reward)\n",
    "            if done:\n",
    "                break\n",
    "        lengths.append(t)\n",
    "        scores_deque.append(sum(rewards))\n",
    "        \n",
    "        G = 0\n",
    "        policy_loss = 0\n",
    "        value_loss = 0\n",
    "        for t in range(len(rewards) - 1, -1, -1):\n",
    "            G = rewards[t] + gamma * G\n",
    "            if algorithm == 'Barebone':\n",
    "                delta = G\n",
    "            if algorithm == 'Baseline':\n",
    "                delta = G - saved_value[t].detach()\n",
    "                value_loss += (gamma ** t) * delta * (-saved_value[t])\n",
    "                delta = delta.cpu()\n",
    "            if algorithm == 'Actor-Critic':\n",
    "                if t == len(rewards) - 1:\n",
    "                    delta = rewards[t] - saved_value[t].detach()\n",
    "                else:\n",
    "                    delta = rewards[t] + gamma * saved_value[t + 1].detach() - saved_value[t].detach()\n",
    "                value_loss += (gamma ** t) * delta * (-saved_value[t])\n",
    "                delta = delta.cpu()\n",
    "            policy_loss += (gamma ** t) * delta * (-saved_log_probs[t])\n",
    "        \n",
    "        returns.append(G)\n",
    "        optimizer.zero_grad()\n",
    "        if algorithm == 'Baseline' or algorithm == 'Actor-Critic':\n",
    "            value_loss *= 0.1\n",
    "            value_loss.backward()\n",
    "        policy_loss.backward()\n",
    "        optimizer.step()\n",
    "        \n",
    "        if i_episode % print_every == 0:\n",
    "            print('Episode {}\\tAverage Score: {:.2f}'.format(i_episode, np.mean(scores_deque)))\n",
    "#         if np.mean(scores_deque)>=195.0:\n",
    "#             print('Environment solved in {:d} episodes!\\tAverage Score: {:.2f}'.format(i_episode-100, np.mean(scores_deque)))\n",
    "        \n",
    "    return policy, np.array(returns), np.array(lengths)\n",
    "    "
   ]
  },
  {
   "cell_type": "code",
   "execution_count": 7,
   "metadata": {},
   "outputs": [],
   "source": [
    "envs = {\n",
    "    'cartpole': gym.make('CartPole-v1'),\n",
    "    'mountaincar': gym.make('MountainCar-v0'),\n",
    "    'acrobot': gym.make('Acrobot-v1'),\n",
    "    'lunarlander': gym.make('LunarLander-v2'),\n",
    "}"
   ]
  },
  {
   "cell_type": "code",
   "execution_count": null,
   "metadata": {
    "scrolled": false
   },
   "outputs": [
    {
     "name": "stdout",
     "output_type": "stream",
     "text": [
      "Episode 100\tAverage Score: -476.01\n",
      "Episode 200\tAverage Score: -500.00\n",
      "Episode 300\tAverage Score: -500.00\n",
      "Episode 400\tAverage Score: -500.00\n",
      "Episode 500\tAverage Score: -500.00\n",
      "Episode 600\tAverage Score: -500.00\n",
      "Episode 700\tAverage Score: -500.00\n",
      "Episode 800\tAverage Score: -500.00\n"
     ]
    }
   ],
   "source": [
    "algorithms = ['Barebone', 'Baseline', 'Actor-Critic']\n",
    "algorithm = algorithms[0]\n",
    "env = envs['acrobot']\n",
    "policy, returns, lengths = reinforce_trained(algorithm, env, lr=3e-3, n_episodes=3000, gamma=0.99)\n",
    "# result = {'env name': '',\n",
    "#           'policy': np.array([]),\n",
    "#           'returns': np.array([]),\n",
    "#           'lengths': np.array([])}\n",
    "# results = []\n",
    "# for algrithm in algorithms:\n",
    "# print(\"Algorithm \" + algorithm)\n",
    "# for key, env in envs.items():\n",
    "#     print(\"Training on \" + key)\n",
    "#     result['env name'] = key\n",
    "#     result['policy'], result['returns'], result['lengths'] = reinforce_trained(algorithm, env, lr=3e-3, n_episodes=200, gamma=0.99)\n",
    "#     results.append(result)\n",
    "# print(results)"
   ]
  },
  {
   "cell_type": "code",
   "execution_count": 22,
   "metadata": {},
   "outputs": [
    {
     "name": "stdout",
     "output_type": "stream",
     "text": [
      "Actor-Critic\n"
     ]
    },
    {
     "ename": "TypeError",
     "evalue": "__init__() missing 2 required positional arguments: 'state_dim' and 'action_dim'",
     "output_type": "error",
     "traceback": [
      "\u001b[0;31m---------------------------------------------------------------------------\u001b[0m",
      "\u001b[0;31mTypeError\u001b[0m                                 Traceback (most recent call last)",
      "\u001b[0;32m<ipython-input-22-43d84960e4b5>\u001b[0m in \u001b[0;36m<module>\u001b[0;34m\u001b[0m\n\u001b[1;32m      4\u001b[0m \u001b[0mmodel\u001b[0m \u001b[0;34m=\u001b[0m \u001b[0mmodels\u001b[0m\u001b[0;34m[\u001b[0m\u001b[0;36m2\u001b[0m\u001b[0;34m]\u001b[0m\u001b[0;34m\u001b[0m\u001b[0m\n\u001b[1;32m      5\u001b[0m \u001b[0mprint\u001b[0m\u001b[0;34m(\u001b[0m\u001b[0mmodel\u001b[0m\u001b[0;34m)\u001b[0m\u001b[0;34m\u001b[0m\u001b[0m\n\u001b[0;32m----> 6\u001b[0;31m \u001b[0mpolicy\u001b[0m \u001b[0;34m=\u001b[0m \u001b[0mPolicy\u001b[0m\u001b[0;34m(\u001b[0m\u001b[0mmodel\u001b[0m\u001b[0;34m)\u001b[0m\u001b[0;34m.\u001b[0m\u001b[0mto\u001b[0m\u001b[0;34m(\u001b[0m\u001b[0mdevice\u001b[0m\u001b[0;34m)\u001b[0m\u001b[0;34m\u001b[0m\u001b[0m\n\u001b[0m\u001b[1;32m      7\u001b[0m \u001b[0moptimizer\u001b[0m \u001b[0;34m=\u001b[0m \u001b[0moptim\u001b[0m\u001b[0;34m.\u001b[0m\u001b[0mAdam\u001b[0m\u001b[0;34m(\u001b[0m\u001b[0mpolicy\u001b[0m\u001b[0;34m.\u001b[0m\u001b[0mparameters\u001b[0m\u001b[0;34m(\u001b[0m\u001b[0;34m)\u001b[0m\u001b[0;34m,\u001b[0m \u001b[0mlr\u001b[0m\u001b[0;34m=\u001b[0m\u001b[0;36m1e-2\u001b[0m\u001b[0;34m)\u001b[0m\u001b[0;34m\u001b[0m\u001b[0m\n\u001b[1;32m      8\u001b[0m \u001b[0;34m\u001b[0m\u001b[0m\n",
      "\u001b[0;31mTypeError\u001b[0m: __init__() missing 2 required positional arguments: 'state_dim' and 'action_dim'"
     ]
    }
   ],
   "source": [
    "# with training value function\n",
    "\n",
    "models = ['Barebone', 'Baseline', 'Actor-Critic']\n",
    "model = models[2]\n",
    "print(model)\n",
    "policy = Policy(model).to(device)\n",
    "optimizer = optim.Adam(policy.parameters(), lr=1e-2)\n",
    "\n",
    "def reinforce(n_episodes=2000, max_t=1000, gamma=0.9, print_every=100):\n",
    "    scores_deque = deque(maxlen=100)\n",
    "    scores = []\n",
    "    for i_episode in range(1, n_episodes+1):\n",
    "        saved_log_probs = []\n",
    "        saved_value = []\n",
    "        rewards = []\n",
    "        state = env.reset()\n",
    "        for t in range(max_t):\n",
    "            action, log_prob = policy.act(state)\n",
    "            saved_log_probs.append(log_prob)\n",
    "            state, reward, done, _ = env.step(action)\n",
    "            saved_value.append(policy.value(torch.Tensor(state).to(device)))\n",
    "            rewards.append(reward)\n",
    "            if done:\n",
    "                break\n",
    "        scores_deque.append(sum(rewards))\n",
    "        scores.append(sum(rewards))\n",
    "        \n",
    "        G = 0\n",
    "        policy_loss = 0\n",
    "        value_loss = 0\n",
    "        for t in range(len(rewards) - 1, -1, -1):\n",
    "            G = rewards[t] + gamma * G\n",
    "            if model == 'Barebone':\n",
    "                delta = G\n",
    "            if model == 'Baseline':\n",
    "                delta = G - saved_value[t].detach()\n",
    "                value_loss += (gamma ** t) * delta * (-saved_value[t])\n",
    "                delta = delta.cpu()\n",
    "            if model == 'Actor-Critic':\n",
    "                if t == len(rewards) - 1:\n",
    "                    delta = rewards[t] - saved_value[t].detach()\n",
    "                else:\n",
    "                    delta = rewards[t] + gamma * saved_value[t + 1].detach() - saved_value[t].detach()\n",
    "                value_loss += (gamma ** t) * delta * (-saved_value[t])\n",
    "                delta = delta.cpu()\n",
    "            policy_loss += (gamma ** t) * delta * (-saved_log_probs[t])\n",
    "            \n",
    "        optimizer.zero_grad()\n",
    "        if model == 'Baseline' or model == 'Actor-Critic':\n",
    "            value_loss *= 0.1\n",
    "            value_loss.backward()\n",
    "        policy_loss.backward()\n",
    "        optimizer.step()\n",
    "        \n",
    "        if i_episode % print_every == 0:\n",
    "            print('Episode {}\\tAverage Score: {:.2f}'.format(i_episode, np.mean(scores_deque)))\n",
    "#         if np.mean(scores_deque)>=195.0:\n",
    "#             print('Environment solved in {:d} episodes!\\tAverage Score: {:.2f}'.format(i_episode-100, np.mean(scores_deque)))\n",
    "        \n",
    "    return np.array(scores)\n",
    "    \n",
    "scores = reinforce()"
   ]
  },
  {
   "cell_type": "markdown",
   "metadata": {},
   "source": [
    "### 4. Plot the Scores"
   ]
  },
  {
   "cell_type": "code",
   "execution_count": 10,
   "metadata": {},
   "outputs": [],
   "source": [
    "def rolling_average(data, *, window_size):\n",
    "    \"\"\"Smoothen the 1-d data array using a rollin average.\n",
    "\n",
    "    Args:\n",
    "        data: 1-d numpy.array\n",
    "        window_size: size of the smoothing window\n",
    "\n",
    "    Returns:\n",
    "        smooth_data: a 1-d numpy.array with the same size as data\n",
    "    \"\"\"\n",
    "    assert data.ndim == 1\n",
    "    kernel = np.ones(window_size)\n",
    "    smooth_data = np.convolve(data, kernel) / np.convolve(\n",
    "        np.ones_like(data), kernel\n",
    "    )\n",
    "    return smooth_data[: -window_size + 1]"
   ]
  },
  {
   "cell_type": "code",
   "execution_count": 55,
   "metadata": {},
   "outputs": [],
   "source": [
    "results_barebone"
   ]
  },
  {
   "cell_type": "code",
   "execution_count": 79,
   "metadata": {
    "scrolled": true
   },
   "outputs": [
    {
     "name": "stdout",
     "output_type": "stream",
     "text": [
      "0 {'env name': 'lunarlander', 'policy': Policy(\n",
      "  (fc1): Linear(in_features=8, out_features=16, bias=True)\n",
      "  (fc2): Linear(in_features=16, out_features=16, bias=True)\n",
      "  (fc3): Linear(in_features=16, out_features=4, bias=True)\n",
      "), 'returns': array([-64.88290144, -56.79747233, -26.63155144, ...,  46.52169762,\n",
      "        20.47345464,  71.44895588]), 'lengths': array([ 99,  80, 142, ..., 999, 999, 999])}\n"
     ]
    },
    {
     "data": {
      "image/png": "[encoded data removed]",
      "text/plain": [
       "<Figure size 432x288 with 1 Axes>"
      ]
     },
     "metadata": {
      "needs_background": "light"
     },
     "output_type": "display_data"
    },
    {
     "name": "stdout",
     "output_type": "stream",
     "text": [
      "1 {'env name': 'lunarlander', 'policy': Policy(\n",
      "  (fc1): Linear(in_features=8, out_features=16, bias=True)\n",
      "  (fc2): Linear(in_features=16, out_features=16, bias=True)\n",
      "  (fc3): Linear(in_features=16, out_features=4, bias=True)\n",
      "), 'returns': array([-64.88290144, -56.79747233, -26.63155144, ...,  46.52169762,\n",
      "        20.47345464,  71.44895588]), 'lengths': array([ 99,  80, 142, ..., 999, 999, 999])}\n"
     ]
    },
    {
     "data": {
      "image/png": "[encoded data removed]",
      "text/plain": [
       "<Figure size 432x288 with 1 Axes>"
      ]
     },
     "metadata": {
      "needs_background": "light"
     },
     "output_type": "display_data"
    },
    {
     "name": "stdout",
     "output_type": "stream",
     "text": [
      "2 {'env name': 'lunarlander', 'policy': Policy(\n",
      "  (fc1): Linear(in_features=8, out_features=16, bias=True)\n",
      "  (fc2): Linear(in_features=16, out_features=16, bias=True)\n",
      "  (fc3): Linear(in_features=16, out_features=4, bias=True)\n",
      "), 'returns': array([-64.88290144, -56.79747233, -26.63155144, ...,  46.52169762,\n",
      "        20.47345464,  71.44895588]), 'lengths': array([ 99,  80, 142, ..., 999, 999, 999])}\n"
     ]
    },
    {
     "data": {
      "image/png": "[encoded data removed]",
      "text/plain": [
       "<Figure size 432x288 with 1 Axes>"
      ]
     },
     "metadata": {
      "needs_background": "light"
     },
     "output_type": "display_data"
    },
    {
     "name": "stdout",
     "output_type": "stream",
     "text": [
      "3 {'env name': 'lunarlander', 'policy': Policy(\n",
      "  (fc1): Linear(in_features=8, out_features=16, bias=True)\n",
      "  (fc2): Linear(in_features=16, out_features=16, bias=True)\n",
      "  (fc3): Linear(in_features=16, out_features=4, bias=True)\n",
      "), 'returns': array([-64.88290144, -56.79747233, -26.63155144, ...,  46.52169762,\n",
      "        20.47345464,  71.44895588]), 'lengths': array([ 99,  80, 142, ..., 999, 999, 999])}\n"
     ]
    },
    {
     "data": {
      "image/png": "[encoded data removed]",
      "text/plain": [
       "<Figure size 432x288 with 1 Axes>"
      ]
     },
     "metadata": {
      "needs_background": "light"
     },
     "output_type": "display_data"
    }
   ],
   "source": [
    "\n",
    "for key, value in enumerate(results):\n",
    "    returns = value['returns']\n",
    "    lengths = value['lengths']\n",
    "    print(key, value)\n",
    "    plt.subplot(1, 4, key+1)\n",
    "    plt.plot(returns, alpha=0.7)\n",
    "    plt.plot(rolling_average(returns, window_size=int(len(returns)/50)))\n",
    "    plt.legend(['raw scores', 'smoothed scores'], loc=\"upper left\")\n",
    "    plt.xlabel('episodes')\n",
    "    plt.ylabel('returns')\n",
    "    plt.title(value['env name'] + ' returns')\n",
    "    plt.show()\n",
    "\n",
    "# plt.figure()\n",
    "# for key, value in enumerate(results):\n",
    "#     returns = value['returns']\n",
    "#     lengths = value['lengths']\n",
    "#     plt.subplot(4, 1, key+1)\n",
    "#     plt.plot(lengths, alpha=0.7)\n",
    "#     plt.plot(rolling_average(lengths, window_size=int(len(lengths)/50)))\n",
    "#     plt.legend(['raw scores', 'smoothed scores'], loc=\"upper left\")\n",
    "#     plt.xlabel('episodes')\n",
    "#     plt.ylabel('lengths')\n",
    "#     plt.title(value['env name'] + ' lengths')\n",
    "\n",
    "plt.show()"
   ]
  },
  {
   "cell_type": "code",
   "execution_count": 13,
   "metadata": {},
   "outputs": [
    {
     "data": {
      "image/png": "[encoded data removed]",
      "text/plain": [
       "<Figure size 432x288 with 1 Axes>"
      ]
     },
     "metadata": {
      "needs_background": "light"
     },
     "output_type": "display_data"
    },
    {
     "data": {
      "image/png": "[encoded data removed]",
      "text/plain": [
       "<Figure size 432x288 with 1 Axes>"
      ]
     },
     "metadata": {
      "needs_background": "light"
     },
     "output_type": "display_data"
    }
   ],
   "source": [
    "# fig = plt.figure()\n",
    "# ax = fig.add_subplot(111)\n",
    "# plt.plot(np.arange(1, len(scores)+1), scores)\n",
    "# plt.ylabel('Score')\n",
    "# plt.xlabel('Episode #')\n",
    "# plt.title(model)\n",
    "# plt.show()\n",
    "\n",
    "plt.figure()\n",
    "plt.plot(returns, alpha=0.7)\n",
    "plt.plot(rolling_average(returns, window_size=int(len(returns)/50)))\n",
    "plt.legend(['raw returns', 'smoothed returns'], loc=\"upper left\")\n",
    "plt.xlabel('episodes')\n",
    "plt.ylabel('returns')\n",
    "plt.title(algorithm)\n",
    "plt.show()\n",
    "\n",
    "plt.figure()\n",
    "plt.plot(lengths, alpha=0.7)\n",
    "plt.plot(rolling_average(lengths, window_size=int(len(lengths)/50)))\n",
    "plt.legend(['raw lengths', 'smoothed lengths'], loc=\"upper left\")\n",
    "plt.xlabel('episodes')\n",
    "plt.ylabel('lengths')\n",
    "plt.title(algorithm)\n",
    "plt.show()"
   ]
  },
  {
   "cell_type": "markdown",
   "metadata": {},
   "source": [
    "### 5. Watch a Smart Agent!"
   ]
  },
  {
   "cell_type": "code",
   "execution_count": 16,
   "metadata": {},
   "outputs": [],
   "source": [
    "state = env.reset()\n",
    "for t in range(1000):\n",
    "    action, _ = policy.act(state)\n",
    "    env.render()\n",
    "    state, reward, done, _ = env.step(action)\n",
    "    if done:\n",
    "        break \n",
    "\n",
    "env.close()"
   ]
  },
  {
   "cell_type": "code",
   "execution_count": null,
   "metadata": {},
   "outputs": [],
   "source": []
  }
 ],
 "metadata": {
  "anaconda-cloud": {},
  "kernelspec": {
   "display_name": "Python 3",
   "language": "python",
   "name": "python3"
  },
  "language_info": {
   "codemirror_mode": {
    "name": "ipython",
    "version": 3
   },
   "file_extension": ".py",
   "mimetype": "text/x-python",
   "name": "python",
   "nbconvert_exporter": "python",
   "pygments_lexer": "ipython3",
   "version": "3.6.3"
  }
 },
 "nbformat": 4,
 "nbformat_minor": 2
}
